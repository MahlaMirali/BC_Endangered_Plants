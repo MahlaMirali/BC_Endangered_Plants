{
 "cells": [
  {
   "cell_type": "code",
   "execution_count": 1,
   "metadata": {},
   "outputs": [],
   "source": [
    "import pandas as pd"
   ]
  },
  {
   "cell_type": "code",
   "execution_count": 2,
   "metadata": {},
   "outputs": [],
   "source": [
    "import scipy as sp"
   ]
  },
  {
   "cell_type": "code",
   "execution_count": 3,
   "metadata": {},
   "outputs": [],
   "source": [
    "from matplotlib import pyplot as plt"
   ]
  },
  {
   "cell_type": "code",
   "execution_count": 4,
   "metadata": {},
   "outputs": [],
   "source": [
    "import numpy as np"
   ]
  },
  {
   "cell_type": "code",
   "execution_count": 5,
   "metadata": {},
   "outputs": [],
   "source": [
    "import matplotlib as mpl"
   ]
  },
  {
   "cell_type": "code",
   "execution_count": 6,
   "metadata": {},
   "outputs": [],
   "source": [
    "import datetime"
   ]
  },
  {
   "cell_type": "code",
   "execution_count": 7,
   "metadata": {},
   "outputs": [],
   "source": [
    "biodiv = pd.read_csv('bcsee_plants_animals.csv',low_memory=False)"
   ]
  },
  {
   "cell_type": "code",
   "execution_count": 8,
   "metadata": {},
   "outputs": [
    {
     "data": {
      "text/html": [
       "<div>\n",
       "<style scoped>\n",
       "    .dataframe tbody tr th:only-of-type {\n",
       "        vertical-align: middle;\n",
       "    }\n",
       "\n",
       "    .dataframe tbody tr th {\n",
       "        vertical-align: top;\n",
       "    }\n",
       "\n",
       "    .dataframe thead th {\n",
       "        text-align: right;\n",
       "    }\n",
       "</style>\n",
       "<table border=\"1\" class=\"dataframe\">\n",
       "  <thead>\n",
       "    <tr style=\"text-align: right;\">\n",
       "      <th></th>\n",
       "      <th>Year</th>\n",
       "      <th>Scientific Name</th>\n",
       "      <th>Scientific Name Synonyms</th>\n",
       "      <th>English Name</th>\n",
       "      <th>English Name Synonyms</th>\n",
       "      <th>Species Code</th>\n",
       "      <th>Element Code</th>\n",
       "      <th>Global Status</th>\n",
       "      <th>Global Status Review Date</th>\n",
       "      <th>Prov Status</th>\n",
       "      <th>...</th>\n",
       "      <th>Presence</th>\n",
       "      <th>Breeding Bird</th>\n",
       "      <th>Endemic</th>\n",
       "      <th>CF Action Groups</th>\n",
       "      <th>CF Highest Priority</th>\n",
       "      <th>CF Priority Goal 1</th>\n",
       "      <th>CF Priority Goal 2</th>\n",
       "      <th>CF Priority Goal 3</th>\n",
       "      <th>CDC Maps</th>\n",
       "      <th>Mapping Status</th>\n",
       "    </tr>\n",
       "  </thead>\n",
       "  <tbody>\n",
       "    <tr>\n",
       "      <th>0</th>\n",
       "      <td>2011</td>\n",
       "      <td>Abies amabilis</td>\n",
       "      <td>NaN</td>\n",
       "      <td>amabilis fir</td>\n",
       "      <td>NaN</td>\n",
       "      <td>ABIEAMA</td>\n",
       "      <td>PGPIN01010</td>\n",
       "      <td>G5</td>\n",
       "      <td>04/09/1997</td>\n",
       "      <td>S5</td>\n",
       "      <td>...</td>\n",
       "      <td>Regularly occurring</td>\n",
       "      <td>NaN</td>\n",
       "      <td>N</td>\n",
       "      <td>No New Actn</td>\n",
       "      <td>5</td>\n",
       "      <td>5</td>\n",
       "      <td>6</td>\n",
       "      <td>6</td>\n",
       "      <td>N</td>\n",
       "      <td>NaN</td>\n",
       "    </tr>\n",
       "  </tbody>\n",
       "</table>\n",
       "<p>1 rows × 48 columns</p>\n",
       "</div>"
      ],
      "text/plain": [
       "   Year Scientific Name Scientific Name Synonyms  English Name  \\\n",
       "0  2011  Abies amabilis                      NaN  amabilis fir   \n",
       "\n",
       "  English Name Synonyms Species Code Element Code Global Status  \\\n",
       "0                   NaN      ABIEAMA   PGPIN01010            G5   \n",
       "\n",
       "  Global Status Review Date Prov Status      ...                   Presence  \\\n",
       "0                04/09/1997          S5      ...        Regularly occurring   \n",
       "\n",
       "  Breeding Bird Endemic CF Action Groups CF Highest Priority  \\\n",
       "0           NaN       N      No New Actn                   5   \n",
       "\n",
       "  CF Priority Goal 1 CF Priority Goal 2 CF Priority Goal 3 CDC Maps  \\\n",
       "0                  5                  6                  6        N   \n",
       "\n",
       "  Mapping Status  \n",
       "0            NaN  \n",
       "\n",
       "[1 rows x 48 columns]"
      ]
     },
     "execution_count": 8,
     "metadata": {},
     "output_type": "execute_result"
    }
   ],
   "source": [
    "biodiv.head(1)"
   ]
  },
  {
   "cell_type": "code",
   "execution_count": 9,
   "metadata": {},
   "outputs": [
    {
     "name": "stdout",
     "output_type": "stream",
     "text": [
      "58485\n"
     ]
    }
   ],
   "source": [
    "print(len(biodiv))"
   ]
  },
  {
   "cell_type": "code",
   "execution_count": 10,
   "metadata": {},
   "outputs": [
    {
     "data": {
      "text/plain": [
       "['Year',\n",
       " 'Scientific Name',\n",
       " 'Scientific Name Synonyms',\n",
       " 'English Name',\n",
       " 'English Name Synonyms',\n",
       " 'Species Code',\n",
       " 'Element Code',\n",
       " 'Global Status',\n",
       " 'Global Status Review Date',\n",
       " 'Prov Status',\n",
       " 'Prov Status Review Date',\n",
       " 'Prov Status Change Date',\n",
       " 'COSEWIC',\n",
       " 'COSEWIC Comments',\n",
       " 'BC List',\n",
       " 'Identified Wildlife',\n",
       " 'Prov Wildlife Act',\n",
       " 'GOERT',\n",
       " 'MBCA',\n",
       " 'SARA',\n",
       " 'SARA Comments',\n",
       " 'General Status Canada',\n",
       " 'CITES',\n",
       " 'Name Category',\n",
       " 'Class (English)',\n",
       " 'Species Level',\n",
       " 'Kingdom',\n",
       " 'Phylum',\n",
       " 'Class',\n",
       " 'Order',\n",
       " 'Family',\n",
       " 'Forest Dist',\n",
       " 'MOE Region',\n",
       " 'Regional Dist',\n",
       " 'Municipality',\n",
       " 'BGC',\n",
       " 'Habitat Subtype',\n",
       " 'Origin',\n",
       " 'Presence',\n",
       " 'Breeding Bird',\n",
       " 'Endemic',\n",
       " 'CF Action Groups',\n",
       " 'CF Highest Priority',\n",
       " 'CF Priority Goal 1',\n",
       " 'CF Priority Goal 2',\n",
       " 'CF Priority Goal 3',\n",
       " 'CDC Maps',\n",
       " 'Mapping Status']"
      ]
     },
     "execution_count": 10,
     "metadata": {},
     "output_type": "execute_result"
    }
   ],
   "source": [
    "list(biodiv.columns.values)"
   ]
  },
  {
   "cell_type": "code",
   "execution_count": 11,
   "metadata": {},
   "outputs": [],
   "source": [
    "biodiv.rename(columns={'Name Category':'Cat','English Name':'EName','English Name Synonyms':'EName2','Scientific Name Synonyms':'Name2','Species Code':'SpeciesCode','BC List':'BC_List','Prov Status Review Date':'Date', 'Scientific Name':'Name', 'Class (English)':'ClassE'}, inplace = True)"
   ]
  },
  {
   "cell_type": "code",
   "execution_count": 12,
   "metadata": {},
   "outputs": [
    {
     "name": "stdout",
     "output_type": "stream",
     "text": [
      "['Plantae' 'Animalia' nan]\n"
     ]
    }
   ],
   "source": [
    "print(biodiv['Kingdom'].unique())"
   ]
  },
  {
   "cell_type": "code",
   "execution_count": 13,
   "metadata": {},
   "outputs": [
    {
     "name": "stdout",
     "output_type": "stream",
     "text": [
      "['Yellow' 'Blue' 'Red' 'Exotic' 'No Status' 'Accidental' 'Unknown'\n",
      " 'Extinct' 'Yelllow' 'YELLOW' '/' 'RED' nan]\n"
     ]
    }
   ],
   "source": [
    "print(biodiv['BC_List'].unique())"
   ]
  },
  {
   "cell_type": "code",
   "execution_count": 14,
   "metadata": {},
   "outputs": [],
   "source": [
    "biodiv.replace({'BC_List': {'Unknown':np.nan,'No Status':np.nan ,'/':np.nan,'Yelllow':'Yellow','YELLOW':'Yellow', 'Accidental':'Exotic', 'RED':'Red'}}, inplace = True)"
   ]
  },
  {
   "cell_type": "code",
   "execution_count": 15,
   "metadata": {},
   "outputs": [],
   "source": [
    "biodiv['DateY'] = pd.DatetimeIndex(biodiv['Date']).year"
   ]
  },
  {
   "cell_type": "code",
   "execution_count": 16,
   "metadata": {},
   "outputs": [],
   "source": [
    "def parse_values(y):\n",
    "    if (1990<y and y<1999):\n",
    "        return '1990-1999'\n",
    "    elif (2000<y and y<2009):\n",
    "        return '2000-2009'\n",
    "    else:\n",
    "        return '2010-2019'\n",
    "\n",
    "biodiv['Year']=biodiv['DateY'].apply(parse_values)   "
   ]
  },
  {
   "cell_type": "code",
   "execution_count": 17,
   "metadata": {},
   "outputs": [],
   "source": [
    "biodiv_plants= biodiv [['Kingdom','DateY','Order','Class','Phylum','ClassE','BC_List','Year','Family','SpeciesCode','Name','EName','EName2','Name2']]"
   ]
  },
  {
   "cell_type": "code",
   "execution_count": 18,
   "metadata": {},
   "outputs": [],
   "source": [
    "biodiv_plants = biodiv_plants.loc[biodiv['Kingdom']=='Plantae']"
   ]
  },
  {
   "cell_type": "code",
   "execution_count": 19,
   "metadata": {},
   "outputs": [
    {
     "name": "stdout",
     "output_type": "stream",
     "text": [
      "['Pinopsida' 'Bryopsida' 'Dicotyledoneae' 'Monocotyledoneae' 'Ascomycetes'\n",
      " 'Filicopsida' 'Andreaeopsida' 'Incertae sedis (Phylum: Ascomycota)'\n",
      " 'Ophioglossopsida' 'Incertae sedis (Phylum: Mitosporic fungi)'\n",
      " 'Lycopodiopsida' 'Equisetopsida' 'Isoetopsida' nan 'Sphagnopsida'\n",
      " 'Haplomitriopsida' 'Jungermanniopsida' 'Anthocerotopsida'\n",
      " 'Marchantiopsida' 'Takakiopsida']\n"
     ]
    }
   ],
   "source": [
    "print(biodiv_plants['Class'].unique())"
   ]
  },
  {
   "cell_type": "code",
   "execution_count": 20,
   "metadata": {},
   "outputs": [],
   "source": [
    "biodiv_plants = biodiv_plants.replace({'Class': {'Dicotyledoneae': 'Dicots', 'Bryopsida': 'Non-vascular',\n",
    "                                     'Monocotyledoneae':'Monocots','Filicopsida':'Ferns',\n",
    "                                    'Andreaeopsida':'Non-vascular','Isoetopsida':'Fossil-Species',\n",
    "                                   'Sphagnopsida' :'Fossil-Species','Lycopodiopsida':'Fossil-Species','Pinopsida':'Conifers',\n",
    "                                    'Jungermanniopsida':'Non-vascular','Anthocerotopsida':'Non-vascular',\n",
    "                                    'Marchantiopsida':'Non-vascular', 'Takakiopsida':'Non-vascular',\n",
    "                                                 'Haplomitriopsida':'Non-vascular','Equisetopsida':'Non-vascular' }})"
   ]
  },
  {
   "cell_type": "code",
   "execution_count": 21,
   "metadata": {},
   "outputs": [],
   "source": [
    "biodiv_plants = biodiv_plants[(biodiv_plants.Class != 'Ascomycetes') &\n",
    "                  (biodiv_plants.Class != 'Incertae sedis (Phylum: Ascomycota)')&\n",
    "                 (biodiv_plants.Class != 'Ophioglossopsida')&\n",
    "                  (biodiv_plants.Class != 'Incertae sedis (Phylum: Mitosporic fungi)')]"
   ]
  },
  {
   "cell_type": "code",
   "execution_count": 22,
   "metadata": {},
   "outputs": [
    {
     "data": {
      "text/plain": [
       "DateY           5014\n",
       "Order             14\n",
       "Class             14\n",
       "Phylum            14\n",
       "ClassE          6941\n",
       "BC_List         1306\n",
       "Family            14\n",
       "SpeciesCode      926\n",
       "EName           6816\n",
       "EName2         29752\n",
       "Name2          25888\n",
       "dtype: int64"
      ]
     },
     "execution_count": 22,
     "metadata": {},
     "output_type": "execute_result"
    }
   ],
   "source": [
    "null_columns=biodiv_plants.columns[biodiv_plants.isnull().any()]\n",
    "\n",
    "biodiv_plants[null_columns].isnull().sum()\n"
   ]
  },
  {
   "cell_type": "code",
   "execution_count": 23,
   "metadata": {},
   "outputs": [
    {
     "name": "stdout",
     "output_type": "stream",
     "text": [
      "       Kingdom   DateY Order Class Phylum ClassE BC_List       Year Family  \\\n",
      "5500   Plantae  2010.0   NaN   NaN    NaN    NaN  Exotic  2010-2019    NaN   \n",
      "11214  Plantae  2010.0   NaN   NaN    NaN    NaN     Red  2010-2019    NaN   \n",
      "11870  Plantae  2012.0   NaN   NaN    NaN    NaN  Yellow  2010-2019    NaN   \n",
      "12212  Plantae     NaN   NaN   NaN    NaN    NaN     NaN  2010-2019    NaN   \n",
      "22478  Plantae     NaN   NaN   NaN    NaN    NaN     NaN  2010-2019    NaN   \n",
      "22480  Plantae     NaN   NaN   NaN    NaN    NaN     NaN  2010-2019    NaN   \n",
      "24507  Plantae  2014.0   NaN   NaN    NaN    NaN  Exotic  2010-2019    NaN   \n",
      "27880  Plantae     NaN   NaN   NaN    NaN    NaN     NaN  2010-2019    NaN   \n",
      "28259  Plantae  2001.0   NaN   NaN    NaN    NaN  Yellow  2000-2009    NaN   \n",
      "30083  Plantae     NaN   NaN   NaN    NaN    NaN     NaN  2010-2019    NaN   \n",
      "30085  Plantae     NaN   NaN   NaN    NaN    NaN     NaN  2010-2019    NaN   \n",
      "32112  Plantae  2014.0   NaN   NaN    NaN    NaN  Exotic  2010-2019    NaN   \n",
      "35485  Plantae     NaN   NaN   NaN    NaN    NaN     NaN  2010-2019    NaN   \n",
      "35864  Plantae  2001.0   NaN   NaN    NaN    NaN  Yellow  2000-2009    NaN   \n",
      "\n",
      "      SpeciesCode                                       Name  \\\n",
      "5500          NaN     Solidago altissima ssp. gilvocanescens   \n",
      "11214     PELTGOW                         Peltigera gowardii   \n",
      "11870     POTEOCC                     Poteridium occidentale   \n",
      "12212     RICCSOR                           Riccia sorocarpa   \n",
      "22478         NaN                        Calypogeia neesiana   \n",
      "22480         NaN                         Calypogeia suecica   \n",
      "24507         NaN    Helianthus pauciflorus ssp. pauciflorus   \n",
      "27880         NaN                      Solenostoma fusiforme   \n",
      "28259    SYMPLAN1  Symphyotrichum lanceolatum var. hesperium   \n",
      "30083         NaN                        Calypogeia neesiana   \n",
      "30085         NaN                         Calypogeia suecica   \n",
      "32112         NaN    Helianthus pauciflorus ssp. pauciflorus   \n",
      "35485         NaN                      Solenostoma fusiforme   \n",
      "35864    SYMPLAN1  Symphyotrichum lanceolatum var. hesperium   \n",
      "\n",
      "                      EName EName2                                    Name2  \n",
      "5500       Canada goldenrod    NaN  Solidago canadensis var. gilvocanescens  \n",
      "11214              waterfan    NaN                       Hydrothyria venosa  \n",
      "11870        western burnet    NaN                                      NaN  \n",
      "12212                   NaN    NaN                                      NaN  \n",
      "22478                   NaN    NaN                                      NaN  \n",
      "22480                   NaN    NaN                                      NaN  \n",
      "24507       rigid sunflower    NaN                                      NaN  \n",
      "27880                   NaN    NaN                                      NaN  \n",
      "28259  western willow aster    NaN                                      NaN  \n",
      "30083                   NaN    NaN                                      NaN  \n",
      "30085                   NaN    NaN                                      NaN  \n",
      "32112       rigid sunflower    NaN                                      NaN  \n",
      "35485                   NaN    NaN                                      NaN  \n",
      "35864  western willow aster    NaN                                      NaN  \n"
     ]
    }
   ],
   "source": [
    "print(biodiv_plants[biodiv_plants['Class'].isnull()])"
   ]
  },
  {
   "cell_type": "code",
   "execution_count": 24,
   "metadata": {},
   "outputs": [],
   "source": [
    "biodiv_plants = biodiv_plants.dropna(subset = ['DateY'])\n"
   ]
  },
  {
   "cell_type": "code",
   "execution_count": 25,
   "metadata": {},
   "outputs": [
    {
     "name": "stdout",
     "output_type": "stream",
     "text": [
      "       Kingdom   DateY      Order   Class      Phylum  ClassE BC_List  \\\n",
      "28259  Plantae  2001.0        NaN     NaN         NaN     NaN  Yellow   \n",
      "35864  Plantae  2001.0        NaN     NaN         NaN     NaN  Yellow   \n",
      "44462  Plantae  2001.0  Asterales  Dicots  Anthophyta  dicots  Yellow   \n",
      "57367  Plantae  2001.0  Asterales  Dicots  Anthophyta  dicots  Yellow   \n",
      "\n",
      "            Year      Family SpeciesCode  \\\n",
      "28259  2000-2009         NaN    SYMPLAN1   \n",
      "35864  2000-2009         NaN    SYMPLAN1   \n",
      "44462  2000-2009  Asteraceae    SYMPLAN1   \n",
      "57367  2000-2009  Asteraceae    SYMPLAN1   \n",
      "\n",
      "                                            Name                 EName EName2  \\\n",
      "28259  Symphyotrichum lanceolatum var. hesperium  western willow aster    NaN   \n",
      "35864  Symphyotrichum lanceolatum var. hesperium  western willow aster    NaN   \n",
      "44462  Symphyotrichum lanceolatum var. hesperium  western willow aster    NaN   \n",
      "57367  Symphyotrichum lanceolatum var. hesperium  western willow aster    NaN   \n",
      "\n",
      "      Name2  \n",
      "28259   NaN  \n",
      "35864   NaN  \n",
      "44462   NaN  \n",
      "57367   NaN  \n"
     ]
    }
   ],
   "source": [
    "print(biodiv_plants.loc[biodiv_plants['Name'] == 'Symphyotrichum lanceolatum var. hesperium'])"
   ]
  },
  {
   "cell_type": "code",
   "execution_count": 26,
   "metadata": {},
   "outputs": [],
   "source": [
    "biodiv_plants.loc[biodiv_plants['Name'] == 'Solidago altissima ssp. gilvocanescens', 'Class'] = 'Dicots'\n",
    "biodiv_plants.loc[biodiv_plants['Name'] == 'Poteridium occidentale', 'Class'] = 'Dicots'\n",
    "biodiv_plants.loc[biodiv_plants['Name'] == 'Helianthus pauciflorus ssp. pauciflorus', 'Class'] = 'Dicots'\n",
    "biodiv_plants.loc[biodiv_plants['Name'] == 'Symphyotrichum lanceolatum var. hesperium', 'Class'] = 'Dicots'"
   ]
  },
  {
   "cell_type": "code",
   "execution_count": 27,
   "metadata": {},
   "outputs": [],
   "source": [
    "biodiv_plants.dropna(subset =['Class'], inplace = True) # Peltigera gowardii is a lichen not a plant"
   ]
  },
  {
   "cell_type": "code",
   "execution_count": 28,
   "metadata": {},
   "outputs": [],
   "source": [
    "biodiv_plants_red = biodiv_plants.loc[biodiv_plants['BC_List']== 'Red']"
   ]
  },
  {
   "cell_type": "code",
   "execution_count": 29,
   "metadata": {},
   "outputs": [],
   "source": [
    "biodiv_plants = biodiv_plants.drop(columns = ['BC_List','Kingdom','DateY','Order','Phylum','SpeciesCode','Family','ClassE','EName','EName2','Name2'])\n",
    "biodiv_plants_red = biodiv_plants_red.drop(columns = ['BC_List','Kingdom','DateY','Order','Phylum','SpeciesCode','Family','ClassE','EName','EName2','Name2'])"
   ]
  },
  {
   "cell_type": "code",
   "execution_count": 30,
   "metadata": {},
   "outputs": [],
   "source": [
    "piv=biodiv_plants.pivot_table('Name', columns ='Class', index ='Year' , aggfunc = 'count', fill_value=0)\n",
    "piv_red=biodiv_plants_red.pivot_table('Name', columns ='Class', index ='Year' , aggfunc = 'count', fill_value=0)"
   ]
  },
  {
   "cell_type": "code",
   "execution_count": 31,
   "metadata": {},
   "outputs": [],
   "source": [
    "plants_crosstab = pd.crosstab(biodiv_plants['Year'], biodiv_plants['Class'],\n",
    "                               margins = True)\n",
    "plants_red_crosstab = pd.crosstab(biodiv_plants_red['Year'], biodiv_plants_red['Class'],\n",
    "                               margins = True)"
   ]
  },
  {
   "cell_type": "code",
   "execution_count": 32,
   "metadata": {},
   "outputs": [
    {
     "name": "stdout",
     "output_type": "stream",
     "text": [
      "Class      Conifers  Dicots  Ferns  Fossil-Species  Monocots  Non-vascular\n",
      "Year                                                                      \n",
      "1990-1999         0      11      0               5         2             5\n",
      "2000-2009        44    5646    232             123      1893            49\n",
      "2010-2019       175    7262    216             415      3127          5600\n",
      "Class      Conifers  Dicots  Ferns  Fossil-Species  Monocots  Non-vascular\n",
      "Year                                                                      \n",
      "1990-1999         0       4      0               0         0             3\n",
      "2000-2009         0     451     36              17       137             0\n",
      "2010-2019         4    1222     42              74       321           952\n"
     ]
    }
   ],
   "source": [
    "print(piv)\n",
    "print(piv_red)"
   ]
  },
  {
   "cell_type": "code",
   "execution_count": 33,
   "metadata": {},
   "outputs": [
    {
     "data": {
      "text/html": [
       "<div>\n",
       "<style scoped>\n",
       "    .dataframe tbody tr th:only-of-type {\n",
       "        vertical-align: middle;\n",
       "    }\n",
       "\n",
       "    .dataframe tbody tr th {\n",
       "        vertical-align: top;\n",
       "    }\n",
       "\n",
       "    .dataframe thead th {\n",
       "        text-align: right;\n",
       "    }\n",
       "</style>\n",
       "<table border=\"1\" class=\"dataframe\">\n",
       "  <thead>\n",
       "    <tr style=\"text-align: right;\">\n",
       "      <th>Class</th>\n",
       "      <th>Conifers</th>\n",
       "      <th>Dicots</th>\n",
       "      <th>Ferns</th>\n",
       "      <th>Fossil-Species</th>\n",
       "      <th>Monocots</th>\n",
       "      <th>Non-vascular</th>\n",
       "      <th>All</th>\n",
       "    </tr>\n",
       "    <tr>\n",
       "      <th>Year</th>\n",
       "      <th></th>\n",
       "      <th></th>\n",
       "      <th></th>\n",
       "      <th></th>\n",
       "      <th></th>\n",
       "      <th></th>\n",
       "      <th></th>\n",
       "    </tr>\n",
       "  </thead>\n",
       "  <tbody>\n",
       "    <tr>\n",
       "      <th>1990-1999</th>\n",
       "      <td>0</td>\n",
       "      <td>11</td>\n",
       "      <td>0</td>\n",
       "      <td>5</td>\n",
       "      <td>2</td>\n",
       "      <td>5</td>\n",
       "      <td>23</td>\n",
       "    </tr>\n",
       "    <tr>\n",
       "      <th>2000-2009</th>\n",
       "      <td>44</td>\n",
       "      <td>5646</td>\n",
       "      <td>232</td>\n",
       "      <td>123</td>\n",
       "      <td>1893</td>\n",
       "      <td>49</td>\n",
       "      <td>7987</td>\n",
       "    </tr>\n",
       "    <tr>\n",
       "      <th>2010-2019</th>\n",
       "      <td>175</td>\n",
       "      <td>7262</td>\n",
       "      <td>216</td>\n",
       "      <td>415</td>\n",
       "      <td>3127</td>\n",
       "      <td>5600</td>\n",
       "      <td>16795</td>\n",
       "    </tr>\n",
       "    <tr>\n",
       "      <th>All</th>\n",
       "      <td>219</td>\n",
       "      <td>12919</td>\n",
       "      <td>448</td>\n",
       "      <td>543</td>\n",
       "      <td>5022</td>\n",
       "      <td>5654</td>\n",
       "      <td>24805</td>\n",
       "    </tr>\n",
       "  </tbody>\n",
       "</table>\n",
       "</div>"
      ],
      "text/plain": [
       "Class      Conifers  Dicots  Ferns  Fossil-Species  Monocots  Non-vascular  \\\n",
       "Year                                                                         \n",
       "1990-1999         0      11      0               5         2             5   \n",
       "2000-2009        44    5646    232             123      1893            49   \n",
       "2010-2019       175    7262    216             415      3127          5600   \n",
       "All             219   12919    448             543      5022          5654   \n",
       "\n",
       "Class        All  \n",
       "Year              \n",
       "1990-1999     23  \n",
       "2000-2009   7987  \n",
       "2010-2019  16795  \n",
       "All        24805  "
      ]
     },
     "execution_count": 33,
     "metadata": {},
     "output_type": "execute_result"
    }
   ],
   "source": [
    "plants_crosstab"
   ]
  },
  {
   "cell_type": "code",
   "execution_count": 34,
   "metadata": {},
   "outputs": [
    {
     "data": {
      "text/html": [
       "<div>\n",
       "<style scoped>\n",
       "    .dataframe tbody tr th:only-of-type {\n",
       "        vertical-align: middle;\n",
       "    }\n",
       "\n",
       "    .dataframe tbody tr th {\n",
       "        vertical-align: top;\n",
       "    }\n",
       "\n",
       "    .dataframe thead th {\n",
       "        text-align: right;\n",
       "    }\n",
       "</style>\n",
       "<table border=\"1\" class=\"dataframe\">\n",
       "  <thead>\n",
       "    <tr style=\"text-align: right;\">\n",
       "      <th>Class</th>\n",
       "      <th>Conifers</th>\n",
       "      <th>Dicots</th>\n",
       "      <th>Ferns</th>\n",
       "      <th>Fossil-Species</th>\n",
       "      <th>Monocots</th>\n",
       "      <th>Non-vascular</th>\n",
       "      <th>All</th>\n",
       "    </tr>\n",
       "    <tr>\n",
       "      <th>Year</th>\n",
       "      <th></th>\n",
       "      <th></th>\n",
       "      <th></th>\n",
       "      <th></th>\n",
       "      <th></th>\n",
       "      <th></th>\n",
       "      <th></th>\n",
       "    </tr>\n",
       "  </thead>\n",
       "  <tbody>\n",
       "    <tr>\n",
       "      <th>1990-1999</th>\n",
       "      <td>0</td>\n",
       "      <td>4</td>\n",
       "      <td>0</td>\n",
       "      <td>0</td>\n",
       "      <td>0</td>\n",
       "      <td>3</td>\n",
       "      <td>7</td>\n",
       "    </tr>\n",
       "    <tr>\n",
       "      <th>2000-2009</th>\n",
       "      <td>0</td>\n",
       "      <td>451</td>\n",
       "      <td>36</td>\n",
       "      <td>17</td>\n",
       "      <td>137</td>\n",
       "      <td>0</td>\n",
       "      <td>641</td>\n",
       "    </tr>\n",
       "    <tr>\n",
       "      <th>2010-2019</th>\n",
       "      <td>4</td>\n",
       "      <td>1222</td>\n",
       "      <td>42</td>\n",
       "      <td>74</td>\n",
       "      <td>321</td>\n",
       "      <td>952</td>\n",
       "      <td>2615</td>\n",
       "    </tr>\n",
       "    <tr>\n",
       "      <th>All</th>\n",
       "      <td>4</td>\n",
       "      <td>1677</td>\n",
       "      <td>78</td>\n",
       "      <td>91</td>\n",
       "      <td>458</td>\n",
       "      <td>955</td>\n",
       "      <td>3263</td>\n",
       "    </tr>\n",
       "  </tbody>\n",
       "</table>\n",
       "</div>"
      ],
      "text/plain": [
       "Class      Conifers  Dicots  Ferns  Fossil-Species  Monocots  Non-vascular  \\\n",
       "Year                                                                         \n",
       "1990-1999         0       4      0               0         0             3   \n",
       "2000-2009         0     451     36              17       137             0   \n",
       "2010-2019         4    1222     42              74       321           952   \n",
       "All               4    1677     78              91       458           955   \n",
       "\n",
       "Class       All  \n",
       "Year             \n",
       "1990-1999     7  \n",
       "2000-2009   641  \n",
       "2010-2019  2615  \n",
       "All        3263  "
      ]
     },
     "execution_count": 34,
     "metadata": {},
     "output_type": "execute_result"
    }
   ],
   "source": [
    "plants_red_crosstab"
   ]
  },
  {
   "cell_type": "code",
   "execution_count": 35,
   "metadata": {},
   "outputs": [
    {
     "name": "stdout",
     "output_type": "stream",
     "text": [
      "         Year           Class  Percentage\n",
      "0   1990-1999        Conifers    0.000000\n",
      "1   2000-2009        Conifers    0.000000\n",
      "2   2010-2019        Conifers    2.285714\n",
      "3   1990-1999          Dicots   36.363636\n",
      "4   2000-2009          Dicots    7.987956\n",
      "5   2010-2019          Dicots   16.827320\n",
      "6   1990-1999           Ferns    0.000000\n",
      "7   2000-2009           Ferns   15.517241\n",
      "8   2010-2019           Ferns   19.444444\n",
      "9   1990-1999  Fossil-Species    0.000000\n",
      "10  2000-2009  Fossil-Species   13.821138\n",
      "11  2010-2019  Fossil-Species   17.831325\n",
      "12  1990-1999        Monocots    0.000000\n",
      "13  2000-2009        Monocots    7.237190\n",
      "14  2010-2019        Monocots   10.265430\n",
      "15  1990-1999    Non-Vascular   60.000000\n",
      "16  2000-2009    Non-Vascular    0.000000\n",
      "17  2010-2019    Non-Vascular   17.000000\n"
     ]
    }
   ],
   "source": [
    "percentage = pd.DataFrame({'Year': ['1990-1999','2000-2009','2010-2019','1990-1999','2000-2009','2010-2019',\n",
    "                                    '1990-1999','2000-2009','2010-2019','1990-1999','2000-2009','2010-2019',\n",
    "                                   '1990-1999','2000-2009','2010-2019','1990-1999','2000-2009','2010-2019'],\n",
    "                           'Class':['Conifers','Conifers','Conifers','Dicots','Dicots','Dicots',\n",
    "                                   'Ferns','Ferns','Ferns','Fossil-Species','Fossil-Species','Fossil-Species',\n",
    "                                   'Monocots','Monocots','Monocots','Non-Vascular','Non-Vascular','Non-Vascular'],\n",
    "                           'Percentage':[0,0,400/175,400/11, 45100/5646, 122200/7262,0,3600/232,4200/216,\n",
    "                                         0,1700/123,7400/415,0,13700/1893,32100/3127,300/5,0,95200/5600]})\n",
    "print(percentage)"
   ]
  },
  {
   "cell_type": "code",
   "execution_count": 36,
   "metadata": {},
   "outputs": [
    {
     "name": "stdout",
     "output_type": "stream",
     "text": [
      "Class      Conifers     Dicots      Ferns  Fossil-Species  Monocots  \\\n",
      "Year                                                                  \n",
      "1990-1999  0.000000  36.363636   0.000000        0.000000   0.00000   \n",
      "2000-2009  0.000000   7.987956  15.517241       13.821138   7.23719   \n",
      "2010-2019  2.285714  16.827320  19.444444       17.831325  10.26543   \n",
      "\n",
      "Class      Non-Vascular  \n",
      "Year                     \n",
      "1990-1999            60  \n",
      "2000-2009             0  \n",
      "2010-2019            17  \n"
     ]
    }
   ],
   "source": [
    "piv_new=percentage.pivot_table('Percentage', columns ='Class', index ='Year' , aggfunc = 'sum', fill_value=0)\n",
    "print(piv_new)\n"
   ]
  },
  {
   "cell_type": "code",
   "execution_count": 37,
   "metadata": {},
   "outputs": [
    {
     "data": {
      "image/png": "[encoded data removed]",
      "text/plain": [
       "<Figure size 432x288 with 1 Axes>"
      ]
     },
     "metadata": {
      "needs_background": "light"
     },
     "output_type": "display_data"
    }
   ],
   "source": [
    "piv_new.plot()\n",
    "plt.gca().set_xticks(range(len(piv_new)))\n",
    "plt.gca().set_xticklabels(['1990-1999', '2000-2009', '2010-2019'])\n",
    "plt.ylabel('Percentage of Species')\n",
    "plt.title('Endagered Plants in BC')\n",
    "plt.savefig('Endagered Plants in BC.png')"
   ]
  },
  {
   "cell_type": "code",
   "execution_count": 38,
   "metadata": {},
   "outputs": [
    {
     "name": "stdout",
     "output_type": "stream",
     "text": [
      "121.01352605992768\n",
      "3.1508691822049025e-21\n",
      "10\n",
      "[[ 0.98075684 26.25071623 15.00139921 13.58147441  7.51004365 33.03924603]\n",
      " [ 0.45355265 12.13968776  6.93742224  6.28077563  3.47303228 15.27905476]\n",
      " [ 0.8514048  22.78850874 13.02286437 11.79021348  6.51954384 28.68169921]]\n"
     ]
    }
   ],
   "source": [
    "from scipy.stats import chi2_contingency\n",
    "chi2, pval, dof, expected = chi2_contingency(piv_new)\n",
    "print(chi2)\n",
    "print(pval) # p-value is lower than 0.05. We can reject the null hypothesis and say there is a \n",
    "            # statistically significant relationship between year and class.\n",
    "print(dof)\n",
    "print(expected)"
   ]
  },
  {
   "cell_type": "code",
   "execution_count": 39,
   "metadata": {},
   "outputs": [
    {
     "data": {
      "text/plain": [
       "Power_divergenceResult(statistic=array([210.13278008,  29.1894382 ,  15.21401198]), pvalue=array([1.92748712e-43, 2.12853293e-05, 9.48598822e-03]))"
      ]
     },
     "execution_count": 39,
     "metadata": {},
     "output_type": "execute_result"
    }
   ],
   "source": [
    "from scipy.stats import chisquare\n",
    "obs_year = np.array([[0, 0,2.3], [36.4,8,16.8],[0,15.5,19.4],[0,13.8,17.8],[0,7.2,10.2],[60,0,17]])\n",
    "chisquare(obs_year)"
   ]
  },
  {
   "cell_type": "code",
   "execution_count": 40,
   "metadata": {},
   "outputs": [
    {
     "data": {
      "text/plain": [
       "Power_divergenceResult(statistic=array([ 4.6       , 20.72156863, 18.10372493, 16.55949367,  9.47586207,\n",
       "       74.51948052]), pvalue=array([1.00258844e-01, 3.16496232e-05, 1.17172604e-04, 2.53601395e-04,\n",
       "       8.75674486e-03, 6.58112907e-17]))"
      ]
     },
     "execution_count": 40,
     "metadata": {},
     "output_type": "execute_result"
    }
   ],
   "source": [
    "obs_class = np.array([[0,36.4,0,0,0,60],[0,8,15.5,13.8,7.2,0],[2.3,16.8,19.4,17.8,10.2,17]])\n",
    "chisquare(obs_class)"
   ]
  }
 ],
 "metadata": {
  "kernelspec": {
   "display_name": "Python 3",
   "language": "python",
   "name": "python3"
  },
  "language_info": {
   "codemirror_mode": {
    "name": "ipython",
    "version": 3
   },
   "file_extension": ".py",
   "mimetype": "text/x-python",
   "name": "python",
   "nbconvert_exporter": "python",
   "pygments_lexer": "ipython3",
   "version": "3.7.0"
  }
 },
 "nbformat": 4,
 "nbformat_minor": 2
}
